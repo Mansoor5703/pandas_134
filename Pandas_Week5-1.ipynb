{
 "cells": [
  {
   "cell_type": "code",
   "execution_count": null,
   "id": "118d0a24-4329-417e-832b-5cb439098ed0",
   "metadata": {},
   "outputs": [],
   "source": [
    "1. Working with Series and DataFrames"
   ]
  },
  {
   "cell_type": "code",
   "execution_count": 8,
   "id": "24a99280-ba8f-4076-bd41-5061c9b21141",
   "metadata": {},
   "outputs": [
    {
     "name": "stdout",
     "output_type": "stream",
     "text": [
      "Series from a list:\n",
      "0     5\n",
      "1     6\n",
      "2     9\n",
      "3     8\n",
      "4    10\n",
      "dtype: int64\n",
      "\n",
      "DataFrame from a dictionary:\n",
      "      Name  Age\n",
      "0    Imran   25\n",
      "1      Raj   35\n",
      "2     Ravi   23\n",
      "3  Mansoor   20\n"
     ]
    }
   ],
   "source": [
    "import pandas as pd\n",
    "\n",
    "# Creating and displaying a Series\n",
    "data_series = [5, 6, 9, 8, 10]\n",
    "series = pd.Series(data_series)\n",
    "print(\"Series from a list:\")\n",
    "print(series)\n",
    "\n",
    "# Creating and displaying a DataFrame from a dictionary\n",
    "data_frame_dict = {\n",
    "    'Name': ['Imran', 'Raj', 'Ravi', 'Mansoor'],\n",
    "    'Age': [25, 35, 23, 20]\n",
    "}\n",
    "df = pd.DataFrame(data_frame_dict)\n",
    "print(\"\\nDataFrame from a dictionary:\")\n",
    "print(df)\n"
   ]
  },
  {
   "cell_type": "code",
   "execution_count": null,
   "id": "70399280-cef1-4bc9-8208-356f1135d457",
   "metadata": {},
   "outputs": [],
   "source": [
    "2. Basic DataFrame Operations"
   ]
  },
  {
   "cell_type": "code",
   "execution_count": 9,
   "id": "8526bf06-560d-403a-8ca4-0abb11ce3ffc",
   "metadata": {},
   "outputs": [
    {
     "name": "stdout",
     "output_type": "stream",
     "text": [
      "\n",
      "Selected column (Age):\n",
      "0    25\n",
      "1    35\n",
      "2    23\n",
      "3    20\n",
      "Name: Age, dtype: int64\n",
      "\n",
      "Subset of DataFrame:\n",
      "      Name  Age\n",
      "0    Imran   25\n",
      "1      Raj   35\n",
      "2     Ravi   23\n",
      "3  Mansoor   20\n"
     ]
    }
   ],
   "source": [
    "# Selecting a single column\n",
    "ages = df['Age']\n",
    "print(\"\\nSelected column (Age):\")\n",
    "print(ages)\n",
    "\n",
    "# Selecting multiple columns\n",
    "subset_df = df[['Name', 'Age']]\n",
    "print(\"\\nSubset of DataFrame:\")\n",
    "print(subset_df)\n"
   ]
  },
  {
   "cell_type": "code",
   "execution_count": null,
   "id": "4aa5844d-71b5-44bc-b718-841ae055e533",
   "metadata": {},
   "outputs": [],
   "source": [
    "3. Filtering and Modifying Data"
   ]
  },
  {
   "cell_type": "code",
   "execution_count": 10,
   "id": "721a36d1-cc46-4f4f-a574-19d1e37e416f",
   "metadata": {},
   "outputs": [
    {
     "name": "stdout",
     "output_type": "stream",
     "text": [
      "\n",
      "Filtered DataFrame (Age > 40):\n",
      "Empty DataFrame\n",
      "Columns: [Name, Age]\n",
      "Index: []\n",
      "\n",
      "DataFrame after modifying age of the first entry:\n",
      "      Name  Age\n",
      "0    Imran   35\n",
      "1      Raj   35\n",
      "2     Ravi   23\n",
      "3  Mansoor   20\n"
     ]
    }
   ],
   "source": [
    "# Filtering DataFrame based on condition\n",
    "filtered_df = df[df['Age'] > 40]\n",
    "print(\"\\nFiltered DataFrame (Age > 40):\")\n",
    "print(filtered_df)\n",
    "\n",
    "# Modifying DataFrame values\n",
    "df.loc[0, 'Age'] = 35\n",
    "print(\"\\nDataFrame after modifying age of the first entry:\")\n",
    "print(df)\n"
   ]
  },
  {
   "cell_type": "code",
   "execution_count": null,
   "id": "9171a4a4-49c6-425a-af3e-340971b147f8",
   "metadata": {},
   "outputs": [],
   "source": [
    "4. Handling Missing Data"
   ]
  },
  {
   "cell_type": "code",
   "execution_count": 11,
   "id": "e2ccebdb-763a-4ec6-8fd0-5f2b727f576a",
   "metadata": {},
   "outputs": [
    {
     "name": "stdout",
     "output_type": "stream",
     "text": [
      "\n",
      "DataFrame with missing values:\n",
      "     A    B\n",
      "0  5.0  NaN\n",
      "1  6.0  7.0\n",
      "2  NaN  8.0\n",
      "3  8.0  9.0\n",
      "\n",
      "Checking for missing data:\n",
      "       A      B\n",
      "0  False   True\n",
      "1  False  False\n",
      "2   True  False\n",
      "3  False  False\n",
      "\n",
      "DataFrame after filling missing values with 0:\n",
      "     A    B\n",
      "0  5.0  0.0\n",
      "1  6.0  7.0\n",
      "2  0.0  8.0\n",
      "3  8.0  9.0\n"
     ]
    }
   ],
   "source": [
    "# Creating a DataFrame with missing values\n",
    "df_missing = pd.DataFrame({\n",
    "    'A': [5, 6, None, 8],\n",
    "    'B': [None, 7, 8, 9]\n",
    "})\n",
    "\n",
    "# Checking for missing values\n",
    "print(\"\\nDataFrame with missing values:\")\n",
    "print(df_missing)\n",
    "print(\"\\nChecking for missing data:\")\n",
    "print(df_missing.isnull())\n",
    "\n",
    "# Filling missing values\n",
    "df_filled = df_missing.fillna(0)\n",
    "print(\"\\nDataFrame after filling missing values with 0:\")\n",
    "print(df_filled)\n"
   ]
  },
  {
   "cell_type": "code",
   "execution_count": null,
   "id": "053de7c1-cd76-4ce9-a890-27ae91cdb824",
   "metadata": {},
   "outputs": [],
   "source": [
    "5. Data Type Conversion"
   ]
  },
  {
   "cell_type": "code",
   "execution_count": 12,
   "id": "a210a85e-3ce1-4102-a914-d4e64f90728e",
   "metadata": {},
   "outputs": [
    {
     "name": "stdout",
     "output_type": "stream",
     "text": [
      "\n",
      "DataFrame with 'Age' converted to float:\n",
      "      Name   Age\n",
      "0    Imran  35.0\n",
      "1      Raj  35.0\n",
      "2     Ravi  23.0\n",
      "3  Mansoor  20.0\n"
     ]
    }
   ],
   "source": [
    "# Converting data types\n",
    "df['Age'] = df['Age'].astype(float)\n",
    "print(\"\\nDataFrame with 'Age' converted to float:\")\n",
    "print(df)\n"
   ]
  },
  {
   "cell_type": "code",
   "execution_count": null,
   "id": "eba4fd6c-7b0d-4b9e-a6f8-a697b17d6774",
   "metadata": {},
   "outputs": [],
   "source": [
    "6. Data Analysis"
   ]
  },
  {
   "cell_type": "code",
   "execution_count": 13,
   "id": "50c8cae5-118e-4cea-974b-1021182f85e1",
   "metadata": {},
   "outputs": [
    {
     "name": "stdout",
     "output_type": "stream",
     "text": [
      "\n",
      "Summary statistics of the DataFrame:\n",
      "             Age\n",
      "count   4.000000\n",
      "mean   28.250000\n",
      "std     7.889867\n",
      "min    20.000000\n",
      "25%    22.250000\n",
      "50%    29.000000\n",
      "75%    35.000000\n",
      "max    35.000000\n",
      "\n",
      "Grouped data by Age with mean Age:\n",
      "       Age\n",
      "Age       \n",
      "20.0  20.0\n",
      "23.0  23.0\n",
      "35.0  35.0\n"
     ]
    }
   ],
   "source": [
    "# Summary statistics\n",
    "print(\"\\nSummary statistics of the DataFrame:\")\n",
    "print(df.describe())\n",
    "\n",
    "# Grouping data and applying aggregate functions\n",
    "grouped_df = df.groupby('Age').agg({'Age': 'mean'})\n",
    "print(\"\\nGrouped data by Age with mean Age:\")\n",
    "print(grouped_df)\n"
   ]
  },
  {
   "cell_type": "code",
   "execution_count": null,
   "id": "4bef205c-b78d-4e8e-baab-9963eb4e8c18",
   "metadata": {},
   "outputs": [],
   "source": [
    "7. Merging and Concatenating DataFrames"
   ]
  },
  {
   "cell_type": "code",
   "execution_count": 14,
   "id": "f47b3be5-7906-48c7-a774-2a346111162c",
   "metadata": {},
   "outputs": [
    {
     "name": "stdout",
     "output_type": "stream",
     "text": [
      "\n",
      "Merged DataFrame:\n",
      "  Key  Value_x  Value_y\n",
      "0   A      1.0      4.0\n",
      "1   B      2.0      5.0\n",
      "2   C      3.0      NaN\n",
      "3   D      NaN      6.0\n",
      "\n",
      "Concatenated DataFrame:\n",
      "  Key  Value\n",
      "0   A      1\n",
      "1   B      2\n",
      "2   C      3\n",
      "3   A      4\n",
      "4   B      5\n",
      "5   D      6\n"
     ]
    }
   ],
   "source": [
    "# Merging DataFrames\n",
    "df1 = pd.DataFrame({'Key': ['A', 'B', 'C'], 'Value': [1, 2, 3]})\n",
    "df2 = pd.DataFrame({'Key': ['A', 'B', 'D'], 'Value': [4, 5, 6]})\n",
    "merged_df = pd.merge(df1, df2, on='Key', how='outer')\n",
    "print(\"\\nMerged DataFrame:\")\n",
    "print(merged_df)\n",
    "\n",
    "# Concatenating DataFrames\n",
    "concatenated_df = pd.concat([df1, df2], ignore_index=True)\n",
    "print(\"\\nConcatenated DataFrame:\")\n",
    "print(concatenated_df)\n"
   ]
  },
  {
   "cell_type": "code",
   "execution_count": null,
   "id": "6f2688ec-f510-4397-8a6b-ecd4ca424caa",
   "metadata": {},
   "outputs": [],
   "source": [
    "Application in Data Science\n",
    "Advantages of Using Pandas\n",
    "\n",
    "Efficiency and Performance: Very efficient in data manipulation functions.\n",
    "Ease of Use: Offers comprehensive ways of data handling.\n",
    "Integration: Complements other libraries, such as Libraries for Data Visualization like Matplotlib, Seaborn, Libraries for Data Analysis and Data Mining like Scikit learn.\n",
    "Handling Large Datasets: Well suited for handling big data processes.\n",
    "undefined\n",
    "\n",
    "Data Cleaning: Imputing missing values, duplicates, and data type conversions.\n",
    "Exploratory Data Analysis (EDA): Data summarization and data visualization.\n",
    "Time Series Analysis: Management of time series data in finance and economics.\n",
    "undefined\n",
    "Pandas play a crucial role in data science as a field, providing robust capabilities for data manipulation and cleansing for analysis. Once you have successfully gone through the examples given above, you will be ready for handling and managing data with Pandas."
   ]
  }
 ],
 "metadata": {
  "kernelspec": {
   "display_name": "Python 3 (ipykernel)",
   "language": "python",
   "name": "python3"
  },
  "language_info": {
   "codemirror_mode": {
    "name": "ipython",
    "version": 3
   },
   "file_extension": ".py",
   "mimetype": "text/x-python",
   "name": "python",
   "nbconvert_exporter": "python",
   "pygments_lexer": "ipython3",
   "version": "3.12.6"
  }
 },
 "nbformat": 4,
 "nbformat_minor": 5
}
